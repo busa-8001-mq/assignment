{
 "cells": [
  {
   "cell_type": "code",
   "execution_count": 5,
   "id": "bc87104f-7924-4fc0-9be3-e009383c9624",
   "metadata": {
    "tags": []
   },
   "outputs": [],
   "source": [
    "import pandas as pd\n",
    "import numpy as np\n",
    "from sklearn.model_selection import train_test_split\n",
    "from sklearn.preprocessing import StandardScaler\n",
    "from sklearn.decomposition import PCA\n",
    "from sklearn.pipeline import Pipeline\n",
    "from sklearn.pipeline import make_pipeline\n",
    "from sklearn.model_selection import cross_val_score, KFold\n",
    "from sklearn.ensemble import ExtraTreesRegressor"
   ]
  },
  {
   "cell_type": "code",
   "execution_count": 6,
   "id": "aa9b3f4c-88db-4a3b-b6f8-e3e8378c2e2c",
   "metadata": {
    "tags": []
   },
   "outputs": [],
   "source": [
    "df9 = pd.read_csv(\"df_9.csv\")\n",
    "test_ids = df9.ID.iloc[7000:].values # save IDs for later output\n",
    "df9.drop([\"Unnamed: 0\", \"ID\", 'price', 'host_has_profile_pic_t','host_identity_verified_t'], axis=1, inplace=True)\n",
    "y_train = df9['log_price'].iloc[:7000].values\n",
    "#y_test = np.zeros(3000)\n",
    "X_train = df9.drop(['log_price'], axis=1).iloc[:7000].values\n",
    "X_test = df9.drop(['log_price'], axis=1).iloc[7000:].values"
   ]
  },
  {
   "cell_type": "code",
   "execution_count": 7,
   "id": "61428c74-4bdd-4f89-848d-9ea2b8de9ac9",
   "metadata": {
    "tags": []
   },
   "outputs": [
    {
     "name": "stdout",
     "output_type": "stream",
     "text": [
      "CV Root Mean Squared Error: 0.40287094718079813\n"
     ]
    }
   ],
   "source": [
    "pipe_rf = make_pipeline(StandardScaler(), ExtraTreesRegressor(random_state=42))\n",
    "\n",
    "pipe_rf.fit(X_train, y_train)\n",
    "\n",
    "n_folds = 10\n",
    "kf = KFold(n_splits=n_folds, shuffle=True, random_state=42)\n",
    "\n",
    "cv_scores = -cross_val_score(pipe_rf, X_train, y_train, cv=kf, scoring='neg_mean_squared_error')\n",
    "\n",
    "mse = np.mean(cv_scores)\n",
    "rmse = np.sqrt(mse)\n",
    "print(\"CV Root Mean Squared Error:\", rmse)\n",
    "\n",
    "pipe_rf.fit(X_train, y_train)\n",
    "\n",
    "\n",
    "y_pred = pipe_rf.predict(X_test)\n",
    "y_pred_dollar = np.exp(y_pred)"
   ]
  },
  {
   "cell_type": "code",
   "execution_count": 13,
   "id": "6e1aee84-20a0-4630-9c15-da40447a317a",
   "metadata": {
    "tags": []
   },
   "outputs": [],
   "source": [
    "# save predictions to csv\n",
    "out = pd.DataFrame({\"ID\":test_ids, \"price\":y_pred_dollar})\n",
    "out.to_csv(\"ExtraTreesPredictions.csv\", index=False, header=True)"
   ]
  },
  {
   "cell_type": "code",
   "execution_count": 8,
   "id": "a396b7e1-0bc0-4d80-b94e-a930a8fb8e3d",
   "metadata": {
    "tags": []
   },
   "outputs": [
    {
     "name": "stdout",
     "output_type": "stream",
     "text": [
      "Parameters currently in use:\n",
      "\n",
      "{'bootstrap': False,\n",
      " 'ccp_alpha': 0.0,\n",
      " 'criterion': 'squared_error',\n",
      " 'max_depth': None,\n",
      " 'max_features': 1.0,\n",
      " 'max_leaf_nodes': None,\n",
      " 'max_samples': None,\n",
      " 'min_impurity_decrease': 0.0,\n",
      " 'min_samples_leaf': 1,\n",
      " 'min_samples_split': 2,\n",
      " 'min_weight_fraction_leaf': 0.0,\n",
      " 'n_estimators': 100,\n",
      " 'n_jobs': None,\n",
      " 'oob_score': False,\n",
      " 'random_state': 42,\n",
      " 'verbose': 0,\n",
      " 'warm_start': False}\n"
     ]
    }
   ],
   "source": [
    "xtra = ExtraTreesRegressor(random_state = 42)\n",
    "from pprint import pprint\n",
    "# Look at parameters used by our current forest\n",
    "print('Parameters currently in use:\\n')\n",
    "pprint(xtra.get_params())"
   ]
  },
  {
   "cell_type": "code",
   "execution_count": 11,
   "id": "907a0f99-fb27-4201-8a81-a8712e8ad4e2",
   "metadata": {
    "tags": []
   },
   "outputs": [
    {
     "name": "stdout",
     "output_type": "stream",
     "text": [
      "{'extratreesregressor__bootstrap': [True, False],\n",
      " 'extratreesregressor__max_depth': [20,\n",
      "                                    27,\n",
      "                                    35,\n",
      "                                    43,\n",
      "                                    51,\n",
      "                                    58,\n",
      "                                    66,\n",
      "                                    74,\n",
      "                                    82,\n",
      "                                    90,\n",
      "                                    None],\n",
      " 'extratreesregressor__max_features': [1.0, 'sqrt', 'log2'],\n",
      " 'extratreesregressor__max_samples': [0.1,\n",
      "                                      0.2,\n",
      "                                      0.30000000000000004,\n",
      "                                      0.4,\n",
      "                                      0.5,\n",
      "                                      0.6,\n",
      "                                      0.7000000000000001,\n",
      "                                      0.8,\n",
      "                                      0.9,\n",
      "                                      1.0],\n",
      " 'extratreesregressor__min_samples_leaf': [1, 3, 5, 7, 9, 11, 13, 15, 17, 20],\n",
      " 'extratreesregressor__min_samples_split': [2, 4, 6, 8, 10, 12, 14, 16, 18, 20],\n",
      " 'extratreesregressor__n_estimators': [100,\n",
      "                                       114,\n",
      "                                       128,\n",
      "                                       142,\n",
      "                                       156,\n",
      "                                       170,\n",
      "                                       184,\n",
      "                                       198,\n",
      "                                       213,\n",
      "                                       227,\n",
      "                                       241,\n",
      "                                       255,\n",
      "                                       269,\n",
      "                                       283,\n",
      "                                       297,\n",
      "                                       312,\n",
      "                                       326,\n",
      "                                       340,\n",
      "                                       354,\n",
      "                                       368,\n",
      "                                       382,\n",
      "                                       396,\n",
      "                                       411,\n",
      "                                       425,\n",
      "                                       439,\n",
      "                                       453,\n",
      "                                       467,\n",
      "                                       481,\n",
      "                                       495,\n",
      "                                       510,\n",
      "                                       524,\n",
      "                                       538,\n",
      "                                       552,\n",
      "                                       566,\n",
      "                                       580,\n",
      "                                       594,\n",
      "                                       609,\n",
      "                                       623,\n",
      "                                       637,\n",
      "                                       651,\n",
      "                                       665,\n",
      "                                       679,\n",
      "                                       693,\n",
      "                                       708,\n",
      "                                       722,\n",
      "                                       736,\n",
      "                                       750,\n",
      "                                       764,\n",
      "                                       778,\n",
      "                                       792,\n",
      "                                       807,\n",
      "                                       821,\n",
      "                                       835,\n",
      "                                       849,\n",
      "                                       863,\n",
      "                                       877,\n",
      "                                       891,\n",
      "                                       906,\n",
      "                                       920,\n",
      "                                       934,\n",
      "                                       948,\n",
      "                                       962,\n",
      "                                       976,\n",
      "                                       990,\n",
      "                                       1005,\n",
      "                                       1019,\n",
      "                                       1033,\n",
      "                                       1047,\n",
      "                                       1061,\n",
      "                                       1075,\n",
      "                                       1089,\n",
      "                                       1104,\n",
      "                                       1118,\n",
      "                                       1132,\n",
      "                                       1146,\n",
      "                                       1160,\n",
      "                                       1174,\n",
      "                                       1188,\n",
      "                                       1203,\n",
      "                                       1217,\n",
      "                                       1231,\n",
      "                                       1245,\n",
      "                                       1259,\n",
      "                                       1273,\n",
      "                                       1287,\n",
      "                                       1302,\n",
      "                                       1316,\n",
      "                                       1330,\n",
      "                                       1344,\n",
      "                                       1358,\n",
      "                                       1372,\n",
      "                                       1386,\n",
      "                                       1401,\n",
      "                                       1415,\n",
      "                                       1429,\n",
      "                                       1443,\n",
      "                                       1457,\n",
      "                                       1471,\n",
      "                                       1485,\n",
      "                                       1500]}\n"
     ]
    }
   ],
   "source": [
    "from sklearn.model_selection import RandomizedSearchCV\n",
    "# first let's do randomized grid search to narrow down parameter ranges\n",
    "# Number of trees in random forest\n",
    "n_estimators = [int(x) for x in np.linspace(start = 100, stop = 1500, num = 100)]\n",
    "# Number of features to consider at every split\n",
    "max_features = [1.0, 'sqrt', 'log2']\n",
    "# Maximum number of levels in tree\n",
    "max_depth = [int(x) for x in np.linspace(20, 90, num = 10)]\n",
    "max_depth.append(None)\n",
    "# Minimum number of samples required to split a node\n",
    "min_samples_split = [int(x) for x in np.linspace(2, 20, num = 10)]\n",
    "# Minimum number of samples required at each leaf node\n",
    "min_samples_leaf = [int(x) for x in np.linspace(1, 20, num = 10)]\n",
    "# Method of selecting samples for training each tree\n",
    "bootstrap = [True, False]\n",
    "# sample size per bootstrap sample\n",
    "max_samples = [x for x in np.linspace(0.1, 1, num = 10)]\n",
    "# Create the random grid\n",
    "random_grid = {'extratreesregressor__n_estimators': n_estimators,\n",
    "               'extratreesregressor__max_features': max_features,\n",
    "               'extratreesregressor__max_depth': max_depth,\n",
    "               'extratreesregressor__min_samples_split': min_samples_split,\n",
    "               'extratreesregressor__min_samples_leaf': min_samples_leaf,\n",
    "               'extratreesregressor__bootstrap': bootstrap,\n",
    "               'extratreesregressor__max_samples': max_samples}\n",
    "pprint(random_grid)"
   ]
  },
  {
   "cell_type": "code",
   "execution_count": 12,
   "id": "0637a930-fbd5-4157-8038-10743005ca04",
   "metadata": {
    "tags": []
   },
   "outputs": [
    {
     "name": "stderr",
     "output_type": "stream",
     "text": [
      "/opt/conda/lib/python3.10/site-packages/sklearn/model_selection/_validation.py:378: FitFailedWarning: \n",
      "260 fits failed out of a total of 500.\n",
      "The score on these train-test partitions for these parameters will be set to nan.\n",
      "If these failures are not expected, you can try to debug them by setting error_score='raise'.\n",
      "\n",
      "Below are more details about the failures:\n",
      "--------------------------------------------------------------------------------\n",
      "260 fits failed with the following error:\n",
      "Traceback (most recent call last):\n",
      "  File \"/opt/conda/lib/python3.10/site-packages/sklearn/model_selection/_validation.py\", line 686, in _fit_and_score\n",
      "    estimator.fit(X_train, y_train, **fit_params)\n",
      "  File \"/opt/conda/lib/python3.10/site-packages/sklearn/pipeline.py\", line 405, in fit\n",
      "    self._final_estimator.fit(Xt, y, **fit_params_last_step)\n",
      "  File \"/opt/conda/lib/python3.10/site-packages/sklearn/ensemble/_forest.py\", line 397, in fit\n",
      "    raise ValueError(\n",
      "ValueError: `max_sample` cannot be set if `bootstrap=False`. Either switch to `bootstrap=True` or set `max_sample=None`.\n",
      "\n",
      "  warnings.warn(some_fits_failed_message, FitFailedWarning)\n",
      "/opt/conda/lib/python3.10/site-packages/sklearn/model_selection/_search.py:952: UserWarning: One or more of the test scores are non-finite: [        nan         nan         nan         nan         nan         nan\n",
      "         nan -0.23253353         nan -0.18944666 -0.26031262 -0.26791346\n",
      " -0.19369006 -0.23114145         nan -0.21122149         nan         nan\n",
      "         nan -0.18590644         nan -0.22605235 -0.25445435 -0.22563445\n",
      " -0.22190578 -0.212864           nan -0.22790039 -0.21737435         nan\n",
      "         nan         nan         nan         nan         nan -0.17569165\n",
      "         nan         nan         nan -0.19800419 -0.1705779  -0.17082391\n",
      " -0.19196014 -0.22809471         nan         nan -0.21150789         nan\n",
      " -0.21913457 -0.20136618]\n",
      "  warnings.warn(\n"
     ]
    },
    {
     "name": "stdout",
     "output_type": "stream",
     "text": [
      "Pipeline(steps=[('standardscaler', StandardScaler()),\n",
      "                ('extratreesregressor',\n",
      "                 ExtraTreesRegressor(bootstrap=True, max_depth=35,\n",
      "                                     max_samples=1.0, min_samples_split=10,\n",
      "                                     n_estimators=1019, random_state=42))])\n",
      "{'extratreesregressor__n_estimators': 1019, 'extratreesregressor__min_samples_split': 10, 'extratreesregressor__min_samples_leaf': 1, 'extratreesregressor__max_samples': 1.0, 'extratreesregressor__max_features': 1.0, 'extratreesregressor__max_depth': 35, 'extratreesregressor__bootstrap': True}\n",
      "-0.17057789555326675\n"
     ]
    }
   ],
   "source": [
    "pipe = make_pipeline(StandardScaler(), ExtraTreesRegressor(random_state=42))\n",
    "\n",
    "gs_random = RandomizedSearchCV(estimator = pipe, \n",
    "                               param_distributions = random_grid, \n",
    "                               n_iter = 50, \n",
    "                               cv = 10,  \n",
    "                               n_jobs = -1,\n",
    "                               scoring = 'neg_mean_squared_error')\n",
    "# Fit the random search model\n",
    "gs_random.fit(X_train, y_train)\n",
    "print(gs_random.best_estimator_)\n",
    "print(gs_random.best_params_)\n",
    "print(gs_random.best_score_)"
   ]
  },
  {
   "cell_type": "code",
   "execution_count": 14,
   "id": "153a29bb-913c-4278-ab97-8b754f701fd6",
   "metadata": {
    "tags": []
   },
   "outputs": [
    {
     "name": "stdout",
     "output_type": "stream",
     "text": [
      "Pipeline(steps=[('standardscaler', StandardScaler()),\n",
      "                ('extratreesregressor',\n",
      "                 ExtraTreesRegressor(bootstrap=True, max_depth=30,\n",
      "                                     max_samples=1.0, min_samples_leaf=2,\n",
      "                                     min_samples_split=8, n_estimators=1050,\n",
      "                                     random_state=42))])\n",
      "{'extratreesregressor__bootstrap': True, 'extratreesregressor__max_depth': 30, 'extratreesregressor__max_features': 1.0, 'extratreesregressor__max_samples': 1.0, 'extratreesregressor__min_samples_leaf': 2, 'extratreesregressor__min_samples_split': 8, 'extratreesregressor__n_estimators': 1050}\n"
     ]
    }
   ],
   "source": [
    "# narrow down optimal parameter values\n",
    "from sklearn.model_selection import GridSearchCV\n",
    "pipe = make_pipeline(StandardScaler(), ExtraTreesRegressor(random_state=42))\n",
    "# Create the parameter grid based on the results of random search \n",
    "param_grid = {\n",
    "    'extratreesregressor__bootstrap': [True],\n",
    "    'extratreesregressor__max_depth': [30, 35, 40],\n",
    "    'extratreesregressor__max_features': [1.0],\n",
    "    'extratreesregressor__max_samples': [0.90, 1.0],\n",
    "    'extratreesregressor__min_samples_leaf': [1, 2],\n",
    "    'extratreesregressor__min_samples_split': [8, 10, 12],\n",
    "    'extratreesregressor__n_estimators': [950, 1000, 1050]\n",
    "}\n",
    "\n",
    "# Instantiate the grid search model\n",
    "grid_search = GridSearchCV(estimator = pipe, \n",
    "                           param_grid = param_grid, \n",
    "                           cv = 10, \n",
    "                           n_jobs = -1,\n",
    "                           scoring = 'neg_mean_squared_error')\n",
    "\n",
    "# Fit the random search model\n",
    "grid_search.fit(X_train, y_train)\n",
    "best_model = grid_search.best_estimator_\n",
    "best_params = grid_search.best_params_\n",
    "print(best_model)\n",
    "print(best_params)"
   ]
  },
  {
   "cell_type": "code",
   "execution_count": 15,
   "id": "0e8fe2bb-3b46-427e-a7a1-55173b5dd88a",
   "metadata": {
    "tags": []
   },
   "outputs": [
    {
     "name": "stdout",
     "output_type": "stream",
     "text": [
      "CV Root Mean Squared Error: 0.40271852340085335\n"
     ]
    }
   ],
   "source": [
    "# final model after hyperparameter tuning\n",
    "pipe = make_pipeline(StandardScaler(), \n",
    "                     ExtraTreesRegressor(random_state=42,\n",
    "                                         bootstrap=True,\n",
    "                                         max_depth=30,\n",
    "                                         max_features=1.0,\n",
    "                                         max_samples=1.0,\n",
    "                                         min_samples_leaf=2,\n",
    "                                         min_samples_split=8,\n",
    "                                         n_estimators=1050))\n",
    "\n",
    "pipe.fit(X_train, y_train)\n",
    "\n",
    "n_folds = 10\n",
    "kf = KFold(n_splits=n_folds, shuffle=True, random_state=42)\n",
    "\n",
    "cv_scores = -cross_val_score(pipe, X_train, y_train, cv=kf, scoring='neg_mean_squared_error')\n",
    "\n",
    "mse = np.mean(cv_scores)\n",
    "rmse = np.sqrt(mse)\n",
    "print(\"CV Root Mean Squared Error:\", rmse)\n",
    "\n",
    "pipe.fit(X_train, y_train)\n",
    "\n",
    "\n",
    "y_pred = pipe.predict(X_test)\n",
    "y_pred_dollar = np.exp(y_pred)"
   ]
  },
  {
   "cell_type": "code",
   "execution_count": 16,
   "id": "d8d17647-ab36-44f8-9fd7-509e55a5a0e3",
   "metadata": {
    "tags": []
   },
   "outputs": [],
   "source": [
    "# save predictions to csv\n",
    "out = pd.DataFrame({\"ID\":test_ids, \"price\":y_pred_dollar})\n",
    "out.to_csv(\"ExtraTreesPredictions.csv\", index=False, header=True)"
   ]
  },
  {
   "cell_type": "code",
   "execution_count": null,
   "id": "002cca1f-1623-4156-814f-324cc783d27f",
   "metadata": {},
   "outputs": [],
   "source": []
  },
  {
   "cell_type": "code",
   "execution_count": null,
   "id": "4883143b-cd69-4965-b733-b414d7fa5f61",
   "metadata": {},
   "outputs": [],
   "source": []
  },
  {
   "cell_type": "code",
   "execution_count": null,
   "id": "7e49ddcb-ad5f-476f-a8af-30f424ff5820",
   "metadata": {},
   "outputs": [],
   "source": []
  },
  {
   "cell_type": "code",
   "execution_count": null,
   "id": "90fd3f6d-266e-4f62-a41f-6bc162c5167f",
   "metadata": {},
   "outputs": [],
   "source": []
  },
  {
   "cell_type": "code",
   "execution_count": null,
   "id": "9e40e95c-0690-4ca3-9456-c9c8bff6b473",
   "metadata": {},
   "outputs": [],
   "source": []
  },
  {
   "cell_type": "code",
   "execution_count": null,
   "id": "b7c5bf3e-6bc0-40ca-8178-7aafa2babc71",
   "metadata": {},
   "outputs": [],
   "source": []
  }
 ],
 "metadata": {
  "kernelspec": {
   "display_name": "Python 3 (ipykernel)",
   "language": "python",
   "name": "python3"
  },
  "language_info": {
   "codemirror_mode": {
    "name": "ipython",
    "version": 3
   },
   "file_extension": ".py",
   "mimetype": "text/x-python",
   "name": "python",
   "nbconvert_exporter": "python",
   "pygments_lexer": "ipython3",
   "version": "3.10.9"
  }
 },
 "nbformat": 4,
 "nbformat_minor": 5
}
