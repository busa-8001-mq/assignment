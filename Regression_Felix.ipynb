{
 "cells": [
  {
   "cell_type": "code",
   "execution_count": 1,
   "id": "ce09ccdb-cde1-418d-9434-e927ba48010a",
   "metadata": {
    "tags": []
   },
   "outputs": [],
   "source": [
    "import pandas as pd\n",
    "import numpy as np\n",
    "from sklearn.model_selection import train_test_split\n",
    "from sklearn.preprocessing import StandardScaler\n",
    "from sklearn.decomposition import PCA\n",
    "from sklearn.pipeline import Pipeline\n",
    "from sklearn.pipeline import make_pipeline\n",
    "from sklearn.model_selection import cross_val_score, KFold\n",
    "from sklearn.ensemble import ExtraTreesRegressor\n",
    "from sklearn.ensemble import RandomForestRegressor\n",
    "\n",
    "from sklearn.preprocessing import PolynomialFeatures\n",
    "from sklearn.linear_model import LinearRegression\n",
    "from sklearn.linear_model import Ridge\n",
    "from sklearn.linear_model import Lasso\n",
    "from sklearn.linear_model import LassoCV\n",
    "from sklearn.linear_model import ElasticNet\n",
    "from sklearn.linear_model import ElasticNetCV\n",
    "from sklearn.model_selection import GridSearchCV\n",
    "from sklearn.metrics import mean_squared_error\n",
    "from math import sqrt\n",
    "from sklearn.linear_model import RANSACRegressor"
   ]
  },
  {
   "cell_type": "code",
   "execution_count": 2,
   "id": "61779eb9-b691-4938-a5cf-e541eee4dfe8",
   "metadata": {
    "tags": []
   },
   "outputs": [],
   "source": [
    "df9 = pd.read_csv(\"df_9.csv\")\n",
    "test_ids = df9.ID.iloc[7000:].values # save IDs for later output\n",
    "df9.drop([\"Unnamed: 0\", \"ID\", 'price', 'host_has_profile_pic_t','host_identity_verified_t'], axis=1, inplace=True)\n",
    "y_train = df9['log_price'].iloc[:7000].values\n",
    "#y_test = np.zeros(3000)\n",
    "X_train = df9.drop(['log_price'], axis=1).iloc[:7000].values\n",
    "X_test = df9.drop(['log_price'], axis=1).iloc[7000:].values"
   ]
  },
  {
   "cell_type": "markdown",
   "id": "68bb8f09-fab3-43e3-917b-23d3ef4e88c9",
   "metadata": {},
   "source": [
    "#### Linear Regression"
   ]
  },
  {
   "cell_type": "code",
   "execution_count": null,
   "id": "42a1920a-78ef-4078-8b49-1938138e5af1",
   "metadata": {
    "tags": []
   },
   "outputs": [],
   "source": [
    "pipe_lr = make_pipeline(StandardScaler(), LinearRegression())\n",
    "\n",
    "pipe_lr.fit(X_train, y_train)\n",
    "\n",
    "n_folds = 10\n",
    "kf = KFold(n_splits=n_folds, shuffle=True, random_state=42)\n",
    "\n",
    "cv_scores = -cross_val_score(pipe_lr, X_train, y_train, cv=kf, scoring='neg_mean_squared_error')\n",
    "\n",
    "mse = np.mean(cv_scores)\n",
    "rmse = np.sqrt(mse)\n",
    "print(\"CV Root Mean Squared Error:\", rmse)\n",
    "\n",
    "pipe_lr.fit(X_train, y_train)\n",
    "\n",
    "\n",
    "y_pred = pipe_lr.predict(X_test)\n",
    "y_pred_dollar = np.exp(y_pred)"
   ]
  },
  {
   "cell_type": "code",
   "execution_count": null,
   "id": "f4138055-c2b4-4d7d-bc2b-0348cff511b8",
   "metadata": {
    "tags": []
   },
   "outputs": [],
   "source": [
    "pipe_pca_lr = make_pipeline(StandardScaler(), \n",
    "                            PCA(n_components=0.9, svd_solver='full'),\n",
    "                            LinearRegression())\n",
    "\n",
    "pipe_pca_lr.fit(X_train, y_train)\n",
    "\n",
    "n_folds = 10\n",
    "kf = KFold(n_splits=n_folds, shuffle=True, random_state=42)\n",
    "\n",
    "cv_scores = -cross_val_score(pipe_pca_lr, X_train, y_train, cv=kf, scoring='neg_mean_squared_error')\n",
    "\n",
    "mse = np.mean(cv_scores)\n",
    "rmse = np.sqrt(mse)\n",
    "print(\"CV Root Mean Squared Error:\", rmse)\n",
    "\n",
    "pipe_pca_lr.fit(X_train, y_train)\n",
    "\n",
    "\n",
    "y_pred = pipe_pca_lr.predict(X_test)\n",
    "y_pred_dollar = np.exp(y_pred)"
   ]
  },
  {
   "cell_type": "markdown",
   "id": "155c4259-e582-4a24-90be-25227399d21c",
   "metadata": {},
   "source": [
    "#### Ridge Regression"
   ]
  },
  {
   "cell_type": "code",
   "execution_count": null,
   "id": "538807b5-6086-425a-8321-98012fb71895",
   "metadata": {
    "tags": []
   },
   "outputs": [],
   "source": [
    "pipe_ridge = make_pipeline(StandardScaler(), Ridge())\n",
    "\n",
    "pipe_ridge.fit(X_train, y_train)\n",
    "\n",
    "n_folds = 10\n",
    "kf = KFold(n_splits=n_folds, shuffle=True, random_state=42)\n",
    "\n",
    "cv_scores = -cross_val_score(pipe_ridge, X_train, y_train, cv=kf, scoring='neg_mean_squared_error')\n",
    "\n",
    "mse = np.mean(cv_scores)\n",
    "rmse = np.sqrt(mse)\n",
    "print(\"CV Root Mean Squared Error:\", rmse)\n",
    "\n",
    "pipe_ridge.fit(X_train, y_train)\n",
    "\n",
    "\n",
    "y_pred = pipe_ridge.predict(X_test)\n",
    "y_pred_dollar = np.exp(y_pred)"
   ]
  },
  {
   "cell_type": "code",
   "execution_count": null,
   "id": "abcc5aff-cbed-4d93-83c8-b231d7f4aae8",
   "metadata": {
    "tags": []
   },
   "outputs": [],
   "source": [
    "param_grid = {'ridge__alpha': [x for x in np.linspace(0.1, 1, num = 10)]}\n",
    "\n",
    "# Instantiate the grid search model\n",
    "grid_search = GridSearchCV(estimator = pipe_ridge, \n",
    "                           param_grid = param_grid, \n",
    "                           cv = 10, \n",
    "                           n_jobs = -1,\n",
    "                           scoring = 'neg_mean_squared_error')\n",
    "\n",
    "# Fit the random search model\n",
    "grid_search.fit(X_train, y_train)\n",
    "best_model = grid_search.best_estimator_\n",
    "best_params = grid_search.best_params_\n",
    "print(best_model)\n",
    "print(best_params)"
   ]
  },
  {
   "cell_type": "code",
   "execution_count": null,
   "id": "c494388c-b8ae-4041-91ed-24113574d3eb",
   "metadata": {
    "tags": []
   },
   "outputs": [],
   "source": [
    "pipe_pca_ridge = make_pipeline(StandardScaler(), \n",
    "                            PCA(n_components=0.9, svd_solver='full'),\n",
    "                            Ridge())\n",
    "\n",
    "pipe_pca_ridge.fit(X_train, y_train)\n",
    "\n",
    "n_folds = 10\n",
    "kf = KFold(n_splits=n_folds, shuffle=True, random_state=42)\n",
    "\n",
    "cv_scores = -cross_val_score(pipe_pca_ridge, X_train, y_train, cv=kf, scoring='neg_mean_squared_error')\n",
    "\n",
    "mse = np.mean(cv_scores)\n",
    "rmse = np.sqrt(mse)\n",
    "print(\"CV Root Mean Squared Error:\", rmse)\n",
    "\n",
    "pipe_pca_ridge.fit(X_train, y_train)\n",
    "\n",
    "\n",
    "y_pred = pipe_pca_ridge.predict(X_test)\n",
    "y_pred_dollar = np.exp(y_pred)"
   ]
  },
  {
   "cell_type": "markdown",
   "id": "9fb73698-2feb-4880-8ee2-996acd13d24c",
   "metadata": {},
   "source": [
    "#### LASSO Regression"
   ]
  },
  {
   "cell_type": "code",
   "execution_count": null,
   "id": "b10245c9-2c18-4714-9ace-5649c9342edd",
   "metadata": {
    "tags": []
   },
   "outputs": [],
   "source": [
    "pipe_lasso = make_pipeline(StandardScaler(), Lasso())\n",
    "\n",
    "pipe_lasso.fit(X_train, y_train)\n",
    "\n",
    "n_folds = 10\n",
    "kf = KFold(n_splits=n_folds, shuffle=True, random_state=42)\n",
    "\n",
    "cv_scores = -cross_val_score(pipe_lasso, X_train, y_train, cv=kf, scoring='neg_mean_squared_error')\n",
    "\n",
    "mse = np.mean(cv_scores)\n",
    "rmse = np.sqrt(mse)\n",
    "print(\"CV Root Mean Squared Error:\", rmse)\n",
    "\n",
    "pipe_lasso.fit(X_train, y_train)\n",
    "\n",
    "\n",
    "y_pred = pipe_lasso.predict(X_test)\n",
    "y_pred_dollar = np.exp(y_pred)"
   ]
  },
  {
   "cell_type": "code",
   "execution_count": null,
   "id": "321922b4-2f2d-42fb-b632-92eac8b561df",
   "metadata": {
    "tags": []
   },
   "outputs": [],
   "source": [
    "param_grid = {'lasso__alpha': [x for x in np.linspace(0.1, 1, num = 10)]}\n",
    "\n",
    "# Instantiate the grid search model\n",
    "grid_search = GridSearchCV(estimator = pipe_lasso, \n",
    "                           param_grid = param_grid, \n",
    "                           cv = 10, \n",
    "                           n_jobs = -1,\n",
    "                           scoring = 'neg_mean_squared_error')\n",
    "\n",
    "# Fit the random search model\n",
    "grid_search.fit(X_train, y_train)\n",
    "best_model = grid_search.best_estimator_\n",
    "best_params = grid_search.best_params_\n",
    "print(best_model)\n",
    "print(best_params)"
   ]
  },
  {
   "cell_type": "code",
   "execution_count": null,
   "id": "16dcd0c5-e21a-490b-a59b-24cd25a364d8",
   "metadata": {
    "tags": []
   },
   "outputs": [],
   "source": [
    "pipe_lasso = make_pipeline(StandardScaler(), Lasso(alpha=0.1))\n",
    "\n",
    "pipe_lasso.fit(X_train, y_train)\n",
    "\n",
    "n_folds = 10\n",
    "kf = KFold(n_splits=n_folds, shuffle=True, random_state=42)\n",
    "\n",
    "cv_scores = -cross_val_score(pipe_lasso, X_train, y_train, cv=kf, scoring='neg_mean_squared_error')\n",
    "\n",
    "mse = np.mean(cv_scores)\n",
    "rmse = np.sqrt(mse)\n",
    "print(\"CV Root Mean Squared Error:\", rmse)\n",
    "\n",
    "pipe_lasso.fit(X_train, y_train)\n",
    "\n",
    "\n",
    "y_pred = pipe_lasso.predict(X_test)\n",
    "y_pred_dollar = np.exp(y_pred)"
   ]
  },
  {
   "cell_type": "code",
   "execution_count": null,
   "id": "4edfe5b3-9e9a-48b6-9683-e9654af8d285",
   "metadata": {
    "tags": []
   },
   "outputs": [],
   "source": [
    "# save predictions to csv\n",
    "out = pd.DataFrame({\"ID\":test_ids, \"price\":y_pred_dollar})\n",
    "out.to_csv(\"LASSOPredictions.csv\", index=False, header=True)"
   ]
  },
  {
   "cell_type": "code",
   "execution_count": null,
   "id": "4dd7cc1a-42e6-4a6b-80c2-b93f98597ece",
   "metadata": {
    "tags": []
   },
   "outputs": [],
   "source": [
    "pipe_pca_lasso = make_pipeline(StandardScaler(), \n",
    "                            PCA(n_components=0.9, svd_solver='full'),\n",
    "                            Lasso(alpha=0.1))\n",
    "\n",
    "pipe_pca_lasso.fit(X_train, y_train)\n",
    "\n",
    "n_folds = 10\n",
    "kf = KFold(n_splits=n_folds, shuffle=True, random_state=42)\n",
    "\n",
    "cv_scores = -cross_val_score(pipe_pca_lasso, X_train, y_train, cv=kf, scoring='neg_mean_squared_error')\n",
    "\n",
    "mse = np.mean(cv_scores)\n",
    "rmse = np.sqrt(mse)\n",
    "print(\"CV Root Mean Squared Error:\", rmse)\n",
    "\n",
    "pipe_pca_lasso.fit(X_train, y_train)\n",
    "\n",
    "\n",
    "y_pred = pipe_pca_lasso.predict(X_test)\n",
    "y_pred_dollar = np.exp(y_pred)"
   ]
  },
  {
   "cell_type": "code",
   "execution_count": null,
   "id": "191abc1a-91b3-4877-9c3d-36e028f4fe0d",
   "metadata": {
    "tags": []
   },
   "outputs": [],
   "source": [
    "pipe_lassocv = make_pipeline(StandardScaler(), LassoCV(cv=10))\n",
    "\n",
    "pipe_lassocv.fit(X_train, y_train)\n",
    "\n",
    "n_folds = 10\n",
    "kf = KFold(n_splits=n_folds, shuffle=True, random_state=42)\n",
    "\n",
    "cv_scores = -cross_val_score(pipe_lassocv, X_train, y_train, cv=kf, scoring='neg_mean_squared_error')\n",
    "\n",
    "mse = np.mean(cv_scores)\n",
    "rmse = np.sqrt(mse)\n",
    "print(\"CV Root Mean Squared Error:\", rmse)\n",
    "\n",
    "pipe_lassocv.fit(X_train, y_train)\n",
    "\n",
    "\n",
    "y_pred = pipe_lassocv.predict(X_test)\n",
    "y_pred_dollar = np.exp(y_pred)"
   ]
  },
  {
   "cell_type": "code",
   "execution_count": null,
   "id": "4f10adc9-1abe-487a-8d73-0d33b0fce90f",
   "metadata": {
    "tags": []
   },
   "outputs": [],
   "source": [
    "# save predictions to csv\n",
    "out = pd.DataFrame({\"ID\":test_ids, \"price\":y_pred_dollar})\n",
    "out.to_csv(\"LASSOPredictions.csv\", index=False, header=True)"
   ]
  },
  {
   "cell_type": "code",
   "execution_count": null,
   "id": "895d0729-50e9-4e83-9e99-dd2774d5c897",
   "metadata": {
    "tags": []
   },
   "outputs": [],
   "source": [
    "lasso = Lasso()\n",
    "\n",
    "model = lasso.fit(X_train, y_train)\n",
    "\n",
    "model.coef_"
   ]
  },
  {
   "cell_type": "code",
   "execution_count": null,
   "id": "06fabff5-2501-4c00-81ba-dc88701442a5",
   "metadata": {
    "tags": []
   },
   "outputs": [],
   "source": [
    "param_grid = {'lasso__alpha': [x for x in np.linspace(0.1, 1, num = 10)]}\n",
    "\n",
    "# Instantiate the grid search model\n",
    "grid_search = GridSearchCV(estimator = pipe_ridge, \n",
    "                           param_grid = param_grid, \n",
    "                           cv = 10, \n",
    "                           n_jobs = -1,\n",
    "                           scoring = 'neg_mean_squared_error')\n",
    "\n",
    "# Fit the random search model\n",
    "grid_search.fit(X_train, y_train)\n",
    "best_model = grid_search.best_estimator_\n",
    "best_params = grid_search.best_params_\n",
    "print(best_model)\n",
    "print(best_params)"
   ]
  },
  {
   "cell_type": "markdown",
   "id": "d488174c-60db-472f-b145-a47f6fe8ac29",
   "metadata": {},
   "source": [
    "alpha of 1.0 was already used in the default version."
   ]
  },
  {
   "cell_type": "code",
   "execution_count": null,
   "id": "00f3ebcd-b624-4207-833f-10e608221809",
   "metadata": {},
   "outputs": [],
   "source": []
  },
  {
   "cell_type": "code",
   "execution_count": null,
   "id": "130b5f59-d6f6-4c81-928e-c8aa8381372b",
   "metadata": {},
   "outputs": [],
   "source": []
  },
  {
   "cell_type": "code",
   "execution_count": null,
   "id": "b5b0d5ec-b09e-4f2d-95b6-c4316bff84c8",
   "metadata": {},
   "outputs": [],
   "source": []
  },
  {
   "cell_type": "code",
   "execution_count": null,
   "id": "2350a7eb-8ce7-4e06-9900-216191bd59e8",
   "metadata": {},
   "outputs": [],
   "source": []
  },
  {
   "cell_type": "markdown",
   "id": "beb26b7e-c642-4336-b345-8223db5922ee",
   "metadata": {},
   "source": [
    "#### ElasticNet Regression"
   ]
  },
  {
   "cell_type": "code",
   "execution_count": null,
   "id": "ff302c48-945b-49ff-b4bb-a36f307ff7ce",
   "metadata": {},
   "outputs": [],
   "source": [
    "pipe_elasticnet = make_pipeline(StandardScaler(), ElasticNet(alpha=1.0, l1_ratio=0.5))\n",
    "\n",
    "pipe_elasticnet.fit(X_train, y_train)\n",
    "\n",
    "n_folds = 10\n",
    "kf = KFold(n_splits=n_folds, shuffle=True, random_state=42)\n",
    "\n",
    "cv_scores = -cross_val_score(pipe_elasticnet, X_train, y_train, cv=kf, scoring='neg_mean_squared_error')\n",
    "\n",
    "mse = np.mean(cv_scores)\n",
    "rmse = np.sqrt(mse)\n",
    "print(\"CV Root Mean Squared Error:\", rmse)\n",
    "\n",
    "pipe_elasticnet.fit(X_train, y_train)\n",
    "\n",
    "\n",
    "y_pred = pipe_elasticnet.predict(X_test)\n",
    "y_pred_dollar = np.exp(y_pred)"
   ]
  },
  {
   "cell_type": "code",
   "execution_count": null,
   "id": "8ec088cf-94ae-41d6-8f71-4b007250c1be",
   "metadata": {
    "tags": []
   },
   "outputs": [],
   "source": [
    "# define grid\n",
    "grid = dict()\n",
    "grid['elasticnet__alpha'] = [1e-5, 1e-4, 1e-3, 1e-2, 1e-1, 0.0, 1.0, 10.0, 100.0]\n",
    "grid['elasticnet__l1_ratio'] = np.arange(0, 1, 0.01)\n",
    "\n",
    "# Instantiate the grid search model\n",
    "grid_search = GridSearchCV(estimator = pipe_elasticnet, \n",
    "                           param_grid = grid, \n",
    "                           cv = 10, \n",
    "                           n_jobs = -1,\n",
    "                           scoring = 'neg_mean_squared_error')\n",
    "\n",
    "# Fit the random search model\n",
    "grid_search.fit(X_train, y_train)\n",
    "best_model = grid_search.best_estimator_\n",
    "best_params = grid_search.best_params_\n",
    "print(best_model)\n",
    "print(best_params)"
   ]
  },
  {
   "cell_type": "code",
   "execution_count": null,
   "id": "1704248a-8f22-4d17-9113-9c91b403231e",
   "metadata": {
    "tags": []
   },
   "outputs": [],
   "source": [
    "pipe_elasticnet = make_pipeline(StandardScaler(), ElasticNet(alpha=0.001, l1_ratio=0.69))\n",
    "\n",
    "pipe_elasticnet.fit(X_train, y_train)\n",
    "\n",
    "n_folds = 10\n",
    "kf = KFold(n_splits=n_folds, shuffle=True, random_state=42)\n",
    "\n",
    "cv_scores = -cross_val_score(pipe_elasticnet, X_train, y_train, cv=kf, scoring='neg_mean_squared_error')\n",
    "\n",
    "mse = np.mean(cv_scores)\n",
    "rmse = np.sqrt(mse)\n",
    "print(\"CV Root Mean Squared Error:\", rmse)\n",
    "\n",
    "pipe_elasticnet.fit(X_train, y_train)\n",
    "\n",
    "\n",
    "y_pred = pipe_elasticnet.predict(X_test)\n",
    "y_pred_dollar = np.exp(y_pred)"
   ]
  },
  {
   "cell_type": "code",
   "execution_count": null,
   "id": "cd2e5165-42ef-4dbe-9163-e72738a98353",
   "metadata": {
    "tags": []
   },
   "outputs": [],
   "source": [
    "# save predictions to csv\n",
    "out = pd.DataFrame({\"ID\":test_ids, \"price\":y_pred_dollar})\n",
    "out.to_csv(\"ElasticNetPredictions.csv\", index=False, header=True)"
   ]
  },
  {
   "cell_type": "markdown",
   "id": "6ea6bcac-c35b-4817-ada0-59bff4751134",
   "metadata": {},
   "source": [
    "#### RANSAC"
   ]
  },
  {
   "cell_type": "code",
   "execution_count": 3,
   "id": "ec41d572-493f-41a7-8676-0a541fb98849",
   "metadata": {
    "tags": []
   },
   "outputs": [
    {
     "name": "stdout",
     "output_type": "stream",
     "text": [
      "CV Root Mean Squared Error: 0.45998035190695036\n"
     ]
    }
   ],
   "source": [
    "pipe_ransac = make_pipeline(StandardScaler(), RANSACRegressor(LinearRegression(),\n",
    "                                                                 max_trials=100,\n",
    "                                                                 min_samples=50,\n",
    "                                                                 residual_threshold=5.0,\n",
    "                                                                 random_state=42))\n",
    "\n",
    "pipe_ransac.fit(X_train, y_train)\n",
    "\n",
    "n_folds = 10\n",
    "kf = KFold(n_splits=n_folds, shuffle=True, random_state=42)\n",
    "\n",
    "cv_scores = -cross_val_score(pipe_ransac, X_train, y_train, cv=kf, scoring='neg_mean_squared_error')\n",
    "\n",
    "mse = np.mean(cv_scores)\n",
    "rmse = np.sqrt(mse)\n",
    "print(\"CV Root Mean Squared Error:\", rmse)\n",
    "\n",
    "pipe_ransac.fit(X_train, y_train)\n",
    "\n",
    "\n",
    "y_pred = pipe_ransac.predict(X_test)\n",
    "y_pred_dollar = np.exp(y_pred)"
   ]
  },
  {
   "cell_type": "code",
   "execution_count": 4,
   "id": "1e0d3975-9bf2-4e2e-aca4-5e02f58f75aa",
   "metadata": {
    "tags": []
   },
   "outputs": [
    {
     "name": "stdout",
     "output_type": "stream",
     "text": [
      "CV Root Mean Squared Error: 0.46028860227413426\n"
     ]
    }
   ],
   "source": [
    "pipe_ransac = make_pipeline(StandardScaler(), RANSACRegressor(LinearRegression(),\n",
    "                                                                 max_trials=100,\n",
    "                                                                 min_samples=50,\n",
    "                                                                 residual_threshold=4.0,\n",
    "                                                                 random_state=42))\n",
    "\n",
    "pipe_ransac.fit(X_train, y_train)\n",
    "\n",
    "n_folds = 10\n",
    "kf = KFold(n_splits=n_folds, shuffle=True, random_state=42)\n",
    "\n",
    "cv_scores = -cross_val_score(pipe_ransac, X_train, y_train, cv=kf, scoring='neg_mean_squared_error')\n",
    "\n",
    "mse = np.mean(cv_scores)\n",
    "rmse = np.sqrt(mse)\n",
    "print(\"CV Root Mean Squared Error:\", rmse)\n",
    "\n",
    "pipe_ransac.fit(X_train, y_train)\n",
    "\n",
    "\n",
    "y_pred = pipe_ransac.predict(X_test)\n",
    "y_pred_dollar = np.exp(y_pred)"
   ]
  },
  {
   "cell_type": "code",
   "execution_count": 5,
   "id": "98c09fd7-8b8c-4fe3-bd18-1108566cfe19",
   "metadata": {
    "tags": []
   },
   "outputs": [
    {
     "name": "stdout",
     "output_type": "stream",
     "text": [
      "CV Root Mean Squared Error: 0.46008750008114485\n"
     ]
    }
   ],
   "source": [
    "pipe_ransac = make_pipeline(StandardScaler(), RANSACRegressor(LinearRegression(),\n",
    "                                                                 max_trials=100,\n",
    "                                                                 min_samples=50,\n",
    "                                                                 residual_threshold=3.0,\n",
    "                                                                 random_state=42))\n",
    "\n",
    "pipe_ransac.fit(X_train, y_train)\n",
    "\n",
    "n_folds = 10\n",
    "kf = KFold(n_splits=n_folds, shuffle=True, random_state=42)\n",
    "\n",
    "cv_scores = -cross_val_score(pipe_ransac, X_train, y_train, cv=kf, scoring='neg_mean_squared_error')\n",
    "\n",
    "mse = np.mean(cv_scores)\n",
    "rmse = np.sqrt(mse)\n",
    "print(\"CV Root Mean Squared Error:\", rmse)\n",
    "\n",
    "pipe_ransac.fit(X_train, y_train)\n",
    "\n",
    "\n",
    "y_pred = pipe_ransac.predict(X_test)\n",
    "y_pred_dollar = np.exp(y_pred)"
   ]
  },
  {
   "cell_type": "code",
   "execution_count": 6,
   "id": "2239e206-a272-4b26-8d12-e1b31050e98a",
   "metadata": {
    "tags": []
   },
   "outputs": [
    {
     "name": "stdout",
     "output_type": "stream",
     "text": [
      "CV Root Mean Squared Error: 0.46301135888196304\n"
     ]
    }
   ],
   "source": [
    "pipe_ransac = make_pipeline(StandardScaler(), RANSACRegressor(LinearRegression(),\n",
    "                                                                 max_trials=100,\n",
    "                                                                 min_samples=50,\n",
    "                                                                 residual_threshold=2.0,\n",
    "                                                                 random_state=42))\n",
    "\n",
    "pipe_ransac.fit(X_train, y_train)\n",
    "\n",
    "n_folds = 10\n",
    "kf = KFold(n_splits=n_folds, shuffle=True, random_state=42)\n",
    "\n",
    "cv_scores = -cross_val_score(pipe_ransac, X_train, y_train, cv=kf, scoring='neg_mean_squared_error')\n",
    "\n",
    "mse = np.mean(cv_scores)\n",
    "rmse = np.sqrt(mse)\n",
    "print(\"CV Root Mean Squared Error:\", rmse)\n",
    "\n",
    "pipe_ransac.fit(X_train, y_train)\n",
    "\n",
    "\n",
    "y_pred = pipe_ransac.predict(X_test)\n",
    "y_pred_dollar = np.exp(y_pred)"
   ]
  },
  {
   "cell_type": "code",
   "execution_count": 7,
   "id": "80d8b2a9-bc9e-4b71-b0fa-9e9fe4868212",
   "metadata": {
    "tags": []
   },
   "outputs": [
    {
     "name": "stdout",
     "output_type": "stream",
     "text": [
      "CV Root Mean Squared Error: 0.4568717355428342\n"
     ]
    }
   ],
   "source": [
    "pipe_ransac = make_pipeline(StandardScaler(), RANSACRegressor(LinearRegression(),\n",
    "                                                                 max_trials=100,\n",
    "                                                                 min_samples=50,\n",
    "                                                                 residual_threshold=6.0,\n",
    "                                                                 random_state=42))\n",
    "\n",
    "pipe_ransac.fit(X_train, y_train)\n",
    "\n",
    "n_folds = 10\n",
    "kf = KFold(n_splits=n_folds, shuffle=True, random_state=42)\n",
    "\n",
    "cv_scores = -cross_val_score(pipe_ransac, X_train, y_train, cv=kf, scoring='neg_mean_squared_error')\n",
    "\n",
    "mse = np.mean(cv_scores)\n",
    "rmse = np.sqrt(mse)\n",
    "print(\"CV Root Mean Squared Error:\", rmse)\n",
    "\n",
    "pipe_ransac.fit(X_train, y_train)\n",
    "\n",
    "\n",
    "y_pred = pipe_ransac.predict(X_test)\n",
    "y_pred_dollar = np.exp(y_pred)"
   ]
  },
  {
   "cell_type": "code",
   "execution_count": 8,
   "id": "8d9861c7-a9d6-40d9-9ac9-d6d0c6fdfe78",
   "metadata": {
    "tags": []
   },
   "outputs": [],
   "source": [
    "# save predictions to csv\n",
    "out = pd.DataFrame({\"ID\":test_ids, \"price\":y_pred_dollar})\n",
    "out.to_csv(\"RANSACPredictions.csv\", index=False, header=True)"
   ]
  },
  {
   "cell_type": "code",
   "execution_count": null,
   "id": "b1aab6ba-49d5-4f11-8809-be729562c1a5",
   "metadata": {},
   "outputs": [],
   "source": []
  }
 ],
 "metadata": {
  "kernelspec": {
   "display_name": "Python 3 (ipykernel)",
   "language": "python",
   "name": "python3"
  },
  "language_info": {
   "codemirror_mode": {
    "name": "ipython",
    "version": 3
   },
   "file_extension": ".py",
   "mimetype": "text/x-python",
   "name": "python",
   "nbconvert_exporter": "python",
   "pygments_lexer": "ipython3",
   "version": "3.10.9"
  }
 },
 "nbformat": 4,
 "nbformat_minor": 5
}
