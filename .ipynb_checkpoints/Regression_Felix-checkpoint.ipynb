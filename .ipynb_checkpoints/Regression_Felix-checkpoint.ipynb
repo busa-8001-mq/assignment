{
 "cells": [
  {
   "cell_type": "code",
   "execution_count": 13,
   "id": "ce09ccdb-cde1-418d-9434-e927ba48010a",
   "metadata": {
    "tags": []
   },
   "outputs": [],
   "source": [
    "import pandas as pd\n",
    "import numpy as np\n",
    "from sklearn.model_selection import train_test_split\n",
    "from sklearn.preprocessing import StandardScaler\n",
    "from sklearn.decomposition import PCA\n",
    "from sklearn.pipeline import Pipeline\n",
    "from sklearn.pipeline import make_pipeline\n",
    "from sklearn.model_selection import cross_val_score, KFold\n",
    "from sklearn.ensemble import ExtraTreesRegressor\n",
    "from sklearn.ensemble import RandomForestRegressor\n",
    "\n",
    "from sklearn.preprocessing import PolynomialFeatures\n",
    "from sklearn.linear_model import LinearRegression\n",
    "from sklearn.linear_model import Ridge\n",
    "from sklearn.linear_model import Lasso\n",
    "from sklearn.linear_model import LassoCV\n",
    "from sklearn.model_selection import GridSearchCV\n",
    "from sklearn.metrics import mean_squared_error\n",
    "from math import sqrt"
   ]
  },
  {
   "cell_type": "code",
   "execution_count": 2,
   "id": "61779eb9-b691-4938-a5cf-e541eee4dfe8",
   "metadata": {
    "tags": []
   },
   "outputs": [],
   "source": [
    "df9 = pd.read_csv(\"df_9.csv\")\n",
    "test_ids = df9.ID.iloc[7000:].values # save IDs for later output\n",
    "df9.drop([\"Unnamed: 0\", \"ID\", 'price', 'host_has_profile_pic_t','host_identity_verified_t'], axis=1, inplace=True)\n",
    "y_train = df9['log_price'].iloc[:7000].values\n",
    "#y_test = np.zeros(3000)\n",
    "X_train = df9.drop(['log_price'], axis=1).iloc[:7000].values\n",
    "X_test = df9.drop(['log_price'], axis=1).iloc[7000:].values"
   ]
  },
  {
   "cell_type": "markdown",
   "id": "68bb8f09-fab3-43e3-917b-23d3ef4e88c9",
   "metadata": {},
   "source": [
    "#### Linear Regression"
   ]
  },
  {
   "cell_type": "code",
   "execution_count": 3,
   "id": "42a1920a-78ef-4078-8b49-1938138e5af1",
   "metadata": {
    "tags": []
   },
   "outputs": [
    {
     "name": "stdout",
     "output_type": "stream",
     "text": [
      "CV Root Mean Squared Error: 0.45628252287408333\n"
     ]
    }
   ],
   "source": [
    "pipe_lr = make_pipeline(StandardScaler(), LinearRegression())\n",
    "\n",
    "pipe_lr.fit(X_train, y_train)\n",
    "\n",
    "n_folds = 10\n",
    "kf = KFold(n_splits=n_folds, shuffle=True, random_state=42)\n",
    "\n",
    "cv_scores = -cross_val_score(pipe_lr, X_train, y_train, cv=kf, scoring='neg_mean_squared_error')\n",
    "\n",
    "mse = np.mean(cv_scores)\n",
    "rmse = np.sqrt(mse)\n",
    "print(\"CV Root Mean Squared Error:\", rmse)\n",
    "\n",
    "pipe_lr.fit(X_train, y_train)\n",
    "\n",
    "\n",
    "y_pred = pipe_lr.predict(X_test)\n",
    "y_pred_dollar = np.exp(y_pred)"
   ]
  },
  {
   "cell_type": "markdown",
   "id": "155c4259-e582-4a24-90be-25227399d21c",
   "metadata": {},
   "source": [
    "#### Ridge Regression"
   ]
  },
  {
   "cell_type": "code",
   "execution_count": 4,
   "id": "538807b5-6086-425a-8321-98012fb71895",
   "metadata": {
    "tags": []
   },
   "outputs": [
    {
     "name": "stdout",
     "output_type": "stream",
     "text": [
      "CV Root Mean Squared Error: 0.45627980401135004\n"
     ]
    }
   ],
   "source": [
    "pipe_ridge = make_pipeline(StandardScaler(), Ridge())\n",
    "\n",
    "pipe_ridge.fit(X_train, y_train)\n",
    "\n",
    "n_folds = 10\n",
    "kf = KFold(n_splits=n_folds, shuffle=True, random_state=42)\n",
    "\n",
    "cv_scores = -cross_val_score(pipe_ridge, X_train, y_train, cv=kf, scoring='neg_mean_squared_error')\n",
    "\n",
    "mse = np.mean(cv_scores)\n",
    "rmse = np.sqrt(mse)\n",
    "print(\"CV Root Mean Squared Error:\", rmse)\n",
    "\n",
    "pipe_ridge.fit(X_train, y_train)\n",
    "\n",
    "\n",
    "y_pred = pipe_ridge.predict(X_test)\n",
    "y_pred_dollar = np.exp(y_pred)"
   ]
  },
  {
   "cell_type": "code",
   "execution_count": 8,
   "id": "abcc5aff-cbed-4d93-83c8-b231d7f4aae8",
   "metadata": {
    "tags": []
   },
   "outputs": [
    {
     "name": "stdout",
     "output_type": "stream",
     "text": [
      "Pipeline(steps=[('standardscaler', StandardScaler()), ('ridge', Ridge())])\n",
      "{'ridge__alpha': 1.0}\n"
     ]
    }
   ],
   "source": [
    "param_grid = {'ridge__alpha': [x for x in np.linspace(0.1, 1, num = 10)]}\n",
    "\n",
    "# Instantiate the grid search model\n",
    "grid_search = GridSearchCV(estimator = pipe_ridge, \n",
    "                           param_grid = param_grid, \n",
    "                           cv = 10, \n",
    "                           n_jobs = -1,\n",
    "                           scoring = 'neg_mean_squared_error')\n",
    "\n",
    "# Fit the random search model\n",
    "grid_search.fit(X_train, y_train)\n",
    "best_model = grid_search.best_estimator_\n",
    "best_params = grid_search.best_params_\n",
    "print(best_model)\n",
    "print(best_params)"
   ]
  },
  {
   "cell_type": "markdown",
   "id": "9fb73698-2feb-4880-8ee2-996acd13d24c",
   "metadata": {},
   "source": [
    "#### LASSO Regression"
   ]
  },
  {
   "cell_type": "code",
   "execution_count": 9,
   "id": "b10245c9-2c18-4714-9ace-5649c9342edd",
   "metadata": {
    "tags": []
   },
   "outputs": [
    {
     "name": "stdout",
     "output_type": "stream",
     "text": [
      "CV Root Mean Squared Error: 0.6913022197825175\n"
     ]
    }
   ],
   "source": [
    "pipe_lasso = make_pipeline(StandardScaler(), Lasso())\n",
    "\n",
    "pipe_lasso.fit(X_train, y_train)\n",
    "\n",
    "n_folds = 10\n",
    "kf = KFold(n_splits=n_folds, shuffle=True, random_state=42)\n",
    "\n",
    "cv_scores = -cross_val_score(pipe_lasso, X_train, y_train, cv=kf, scoring='neg_mean_squared_error')\n",
    "\n",
    "mse = np.mean(cv_scores)\n",
    "rmse = np.sqrt(mse)\n",
    "print(\"CV Root Mean Squared Error:\", rmse)\n",
    "\n",
    "pipe_lasso.fit(X_train, y_train)\n",
    "\n",
    "\n",
    "y_pred = pipe_lasso.predict(X_test)\n",
    "y_pred_dollar = np.exp(y_pred)"
   ]
  },
  {
   "cell_type": "code",
   "execution_count": 17,
   "id": "321922b4-2f2d-42fb-b632-92eac8b561df",
   "metadata": {
    "tags": []
   },
   "outputs": [
    {
     "name": "stdout",
     "output_type": "stream",
     "text": [
      "Pipeline(steps=[('standardscaler', StandardScaler()),\n",
      "                ('lasso', Lasso(alpha=0.1))])\n",
      "{'lasso__alpha': 0.1}\n"
     ]
    }
   ],
   "source": [
    "param_grid = {'lasso__alpha': [x for x in np.linspace(0.1, 1, num = 10)]}\n",
    "\n",
    "# Instantiate the grid search model\n",
    "grid_search = GridSearchCV(estimator = pipe_lasso, \n",
    "                           param_grid = param_grid, \n",
    "                           cv = 10, \n",
    "                           n_jobs = -1,\n",
    "                           scoring = 'neg_mean_squared_error')\n",
    "\n",
    "# Fit the random search model\n",
    "grid_search.fit(X_train, y_train)\n",
    "best_model = grid_search.best_estimator_\n",
    "best_params = grid_search.best_params_\n",
    "print(best_model)\n",
    "print(best_params)"
   ]
  },
  {
   "cell_type": "code",
   "execution_count": 18,
   "id": "16dcd0c5-e21a-490b-a59b-24cd25a364d8",
   "metadata": {
    "tags": []
   },
   "outputs": [
    {
     "name": "stdout",
     "output_type": "stream",
     "text": [
      "CV Root Mean Squared Error: 0.5189657511054931\n"
     ]
    }
   ],
   "source": [
    "pipe_lasso = make_pipeline(StandardScaler(), Lasso(alpha=0.1))\n",
    "\n",
    "pipe_lasso.fit(X_train, y_train)\n",
    "\n",
    "n_folds = 10\n",
    "kf = KFold(n_splits=n_folds, shuffle=True, random_state=42)\n",
    "\n",
    "cv_scores = -cross_val_score(pipe_lasso, X_train, y_train, cv=kf, scoring='neg_mean_squared_error')\n",
    "\n",
    "mse = np.mean(cv_scores)\n",
    "rmse = np.sqrt(mse)\n",
    "print(\"CV Root Mean Squared Error:\", rmse)\n",
    "\n",
    "pipe_lasso.fit(X_train, y_train)\n",
    "\n",
    "\n",
    "y_pred = pipe_lasso.predict(X_test)\n",
    "y_pred_dollar = np.exp(y_pred)"
   ]
  },
  {
   "cell_type": "code",
   "execution_count": 19,
   "id": "4edfe5b3-9e9a-48b6-9683-e9654af8d285",
   "metadata": {
    "tags": []
   },
   "outputs": [],
   "source": [
    "# save predictions to csv\n",
    "out = pd.DataFrame({\"ID\":test_ids, \"price\":y_pred_dollar})\n",
    "out.to_csv(\"LASSOPredictions.csv\", index=False, header=True)"
   ]
  },
  {
   "cell_type": "code",
   "execution_count": 15,
   "id": "191abc1a-91b3-4877-9c3d-36e028f4fe0d",
   "metadata": {
    "tags": []
   },
   "outputs": [
    {
     "name": "stdout",
     "output_type": "stream",
     "text": [
      "CV Root Mean Squared Error: 0.4561696322568404\n"
     ]
    }
   ],
   "source": [
    "pipe_lassocv = make_pipeline(StandardScaler(), LassoCV(cv=10))\n",
    "\n",
    "pipe_lassocv.fit(X_train, y_train)\n",
    "\n",
    "n_folds = 10\n",
    "kf = KFold(n_splits=n_folds, shuffle=True, random_state=42)\n",
    "\n",
    "cv_scores = -cross_val_score(pipe_lassocv, X_train, y_train, cv=kf, scoring='neg_mean_squared_error')\n",
    "\n",
    "mse = np.mean(cv_scores)\n",
    "rmse = np.sqrt(mse)\n",
    "print(\"CV Root Mean Squared Error:\", rmse)\n",
    "\n",
    "pipe_lassocv.fit(X_train, y_train)\n",
    "\n",
    "\n",
    "y_pred = pipe_lassocv.predict(X_test)\n",
    "y_pred_dollar = np.exp(y_pred)"
   ]
  },
  {
   "cell_type": "code",
   "execution_count": 16,
   "id": "4f10adc9-1abe-487a-8d73-0d33b0fce90f",
   "metadata": {
    "tags": []
   },
   "outputs": [],
   "source": [
    "# save predictions to csv\n",
    "out = pd.DataFrame({\"ID\":test_ids, \"price\":y_pred_dollar})\n",
    "out.to_csv(\"LASSOPredictions.csv\", index=False, header=True)"
   ]
  },
  {
   "cell_type": "code",
   "execution_count": 12,
   "id": "895d0729-50e9-4e83-9e99-dd2774d5c897",
   "metadata": {
    "tags": []
   },
   "outputs": [
    {
     "data": {
      "text/plain": [
       "array([ 1.43542109e-06, -0.00000000e+00,  0.00000000e+00,  0.00000000e+00,\n",
       "       -0.00000000e+00, -0.00000000e+00,  0.00000000e+00,  0.00000000e+00,\n",
       "        0.00000000e+00,  0.00000000e+00, -0.00000000e+00,  4.52038621e-05,\n",
       "        0.00000000e+00,  2.69686948e-03,  0.00000000e+00,  6.91403122e-04,\n",
       "       -4.84606422e-04, -0.00000000e+00, -0.00000000e+00,  0.00000000e+00,\n",
       "        0.00000000e+00,  0.00000000e+00, -0.00000000e+00,  0.00000000e+00,\n",
       "        0.00000000e+00, -0.00000000e+00,  0.00000000e+00,  0.00000000e+00,\n",
       "        0.00000000e+00,  4.16069457e-03,  0.00000000e+00,  0.00000000e+00,\n",
       "        0.00000000e+00, -0.00000000e+00,  0.00000000e+00, -0.00000000e+00,\n",
       "        0.00000000e+00,  0.00000000e+00, -0.00000000e+00, -0.00000000e+00])"
      ]
     },
     "execution_count": 12,
     "metadata": {},
     "output_type": "execute_result"
    }
   ],
   "source": [
    "lasso = Lasso()\n",
    "\n",
    "model = lasso.fit(X_train, y_train)\n",
    "\n",
    "model.coef_"
   ]
  },
  {
   "cell_type": "code",
   "execution_count": 8,
   "id": "06fabff5-2501-4c00-81ba-dc88701442a5",
   "metadata": {
    "tags": []
   },
   "outputs": [
    {
     "name": "stdout",
     "output_type": "stream",
     "text": [
      "Pipeline(steps=[('standardscaler', StandardScaler()), ('ridge', Ridge())])\n",
      "{'ridge__alpha': 1.0}\n"
     ]
    }
   ],
   "source": [
    "param_grid = {'lasso__alpha': [x for x in np.linspace(0.1, 1, num = 10)]}\n",
    "\n",
    "# Instantiate the grid search model\n",
    "grid_search = GridSearchCV(estimator = pipe_ridge, \n",
    "                           param_grid = param_grid, \n",
    "                           cv = 10, \n",
    "                           n_jobs = -1,\n",
    "                           scoring = 'neg_mean_squared_error')\n",
    "\n",
    "# Fit the random search model\n",
    "grid_search.fit(X_train, y_train)\n",
    "best_model = grid_search.best_estimator_\n",
    "best_params = grid_search.best_params_\n",
    "print(best_model)\n",
    "print(best_params)"
   ]
  },
  {
   "cell_type": "markdown",
   "id": "d488174c-60db-472f-b145-a47f6fe8ac29",
   "metadata": {},
   "source": [
    "alpha of 1.0 was already used in the default version."
   ]
  },
  {
   "cell_type": "code",
   "execution_count": null,
   "id": "00f3ebcd-b624-4207-833f-10e608221809",
   "metadata": {},
   "outputs": [],
   "source": []
  },
  {
   "cell_type": "code",
   "execution_count": null,
   "id": "130b5f59-d6f6-4c81-928e-c8aa8381372b",
   "metadata": {},
   "outputs": [],
   "source": []
  },
  {
   "cell_type": "code",
   "execution_count": null,
   "id": "b5b0d5ec-b09e-4f2d-95b6-c4316bff84c8",
   "metadata": {},
   "outputs": [],
   "source": []
  },
  {
   "cell_type": "code",
   "execution_count": null,
   "id": "2350a7eb-8ce7-4e06-9900-216191bd59e8",
   "metadata": {},
   "outputs": [],
   "source": []
  },
  {
   "cell_type": "markdown",
   "id": "beb26b7e-c642-4336-b345-8223db5922ee",
   "metadata": {},
   "source": [
    "#### ElasticNet Regression"
   ]
  },
  {
   "cell_type": "code",
   "execution_count": null,
   "id": "ff302c48-945b-49ff-b4bb-a36f307ff7ce",
   "metadata": {},
   "outputs": [],
   "source": []
  }
 ],
 "metadata": {
  "kernelspec": {
   "display_name": "Python 3 (ipykernel)",
   "language": "python",
   "name": "python3"
  },
  "language_info": {
   "codemirror_mode": {
    "name": "ipython",
    "version": 3
   },
   "file_extension": ".py",
   "mimetype": "text/x-python",
   "name": "python",
   "nbconvert_exporter": "python",
   "pygments_lexer": "ipython3",
   "version": "3.10.9"
  }
 },
 "nbformat": 4,
 "nbformat_minor": 5
}
