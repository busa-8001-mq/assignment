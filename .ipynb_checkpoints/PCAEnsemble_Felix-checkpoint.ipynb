{
 "cells": [
  {
   "cell_type": "code",
   "execution_count": 3,
   "id": "58c25cb7-a4d6-4f05-9b6c-c7a45ca01036",
   "metadata": {
    "tags": []
   },
   "outputs": [],
   "source": [
    "import pandas as pd\n",
    "import numpy as np\n",
    "from sklearn.model_selection import train_test_split\n",
    "from sklearn.preprocessing import StandardScaler\n",
    "from sklearn.decomposition import PCA\n",
    "from sklearn.pipeline import Pipeline\n",
    "from sklearn.pipeline import make_pipeline\n",
    "from sklearn.model_selection import cross_val_score, KFold\n",
    "from sklearn.ensemble import ExtraTreesRegressor\n",
    "from sklearn.ensemble import RandomForestRegressor"
   ]
  },
  {
   "cell_type": "code",
   "execution_count": 2,
   "id": "43694003-dfa2-425a-b24e-e627d74a2150",
   "metadata": {
    "tags": []
   },
   "outputs": [],
   "source": [
    "df9 = pd.read_csv(\"df_9.csv\")\n",
    "test_ids = df9.ID.iloc[7000:].values # save IDs for later output\n",
    "df9.drop([\"Unnamed: 0\", \"ID\", 'price', 'host_has_profile_pic_t','host_identity_verified_t'], axis=1, inplace=True)\n",
    "y_train = df9['log_price'].iloc[:7000].values\n",
    "#y_test = np.zeros(3000)\n",
    "X_train = df9.drop(['log_price'], axis=1).iloc[:7000].values\n",
    "X_test = df9.drop(['log_price'], axis=1).iloc[7000:].values"
   ]
  },
  {
   "cell_type": "markdown",
   "id": "09fb4b6c-56bf-444b-9e51-6c54b21b8e9a",
   "metadata": {},
   "source": [
    "#### PCA & Random Forest"
   ]
  },
  {
   "cell_type": "code",
   "execution_count": 6,
   "id": "b02b95e4-1cf5-494b-a739-237abe47be29",
   "metadata": {
    "tags": []
   },
   "outputs": [
    {
     "name": "stdout",
     "output_type": "stream",
     "text": [
      "CV Root Mean Squared Error: 0.4364060236234134\n"
     ]
    }
   ],
   "source": [
    "pipe_pca_rf = make_pipeline(StandardScaler(), \n",
    "                            PCA(n_components=0.9, svd_solver='full'),\n",
    "                            RandomForestRegressor(random_state=42))\n",
    "\n",
    "pipe_pca_rf.fit(X_train, y_train)\n",
    "\n",
    "n_folds = 10\n",
    "kf = KFold(n_splits=n_folds, shuffle=True, random_state=42)\n",
    "\n",
    "cv_scores = -cross_val_score(pipe_pca_rf, X_train, y_train, cv=kf, scoring='neg_mean_squared_error')\n",
    "\n",
    "mse = np.mean(cv_scores)\n",
    "rmse = np.sqrt(mse)\n",
    "print(\"CV Root Mean Squared Error:\", rmse)\n",
    "\n",
    "pipe_pca_rf.fit(X_train, y_train)\n",
    "\n",
    "\n",
    "y_pred = pipe_pca_rf.predict(X_test)\n",
    "y_pred_dollar = np.exp(y_pred)"
   ]
  },
  {
   "cell_type": "code",
   "execution_count": 7,
   "id": "501b5a16-3bd0-4161-a2d4-d155c341ce0c",
   "metadata": {
    "tags": []
   },
   "outputs": [],
   "source": [
    "# save predictions to csv\n",
    "out = pd.DataFrame({\"ID\":test_ids, \"price\":y_pred_dollar})\n",
    "out.to_csv(\"PCARandomForestPredictions.csv\", index=False, header=True)"
   ]
  },
  {
   "cell_type": "code",
   "execution_count": null,
   "id": "72b1b561-033a-4e40-bcce-d8a747f0e3b1",
   "metadata": {},
   "outputs": [],
   "source": []
  },
  {
   "cell_type": "code",
   "execution_count": null,
   "id": "5fcce96d-1158-4966-8f4c-31a3d99d455e",
   "metadata": {},
   "outputs": [],
   "source": []
  },
  {
   "cell_type": "code",
   "execution_count": null,
   "id": "b475ae76-c0f7-41f8-903f-8b9a9ffe426f",
   "metadata": {},
   "outputs": [],
   "source": []
  },
  {
   "cell_type": "code",
   "execution_count": null,
   "id": "89fbec80-17b8-4ef7-a44f-c202103b8da2",
   "metadata": {},
   "outputs": [],
   "source": []
  },
  {
   "cell_type": "code",
   "execution_count": null,
   "id": "d3ab35d5-5e12-448c-9102-24f3c1c2cd8f",
   "metadata": {},
   "outputs": [],
   "source": []
  },
  {
   "cell_type": "code",
   "execution_count": null,
   "id": "ea0465c3-8ed2-464c-9c90-e770189de4d4",
   "metadata": {},
   "outputs": [],
   "source": []
  },
  {
   "cell_type": "markdown",
   "id": "d8423c99-ab32-4cc7-bdba-aaa77094a597",
   "metadata": {},
   "source": [
    "#### PCA & Extra Trees"
   ]
  },
  {
   "cell_type": "code",
   "execution_count": 8,
   "id": "d40e0ce1-f8e0-41bf-9ecd-52025ff4abe6",
   "metadata": {
    "tags": []
   },
   "outputs": [
    {
     "name": "stdout",
     "output_type": "stream",
     "text": [
      "CV Root Mean Squared Error: 0.4342546687122259\n"
     ]
    }
   ],
   "source": [
    "pipe_pca_xtra = make_pipeline(StandardScaler(), \n",
    "                            PCA(n_components=0.95, svd_solver='full'),\n",
    "                            ExtraTreesRegressor(random_state=42))\n",
    "\n",
    "pipe_pca_xtra.fit(X_train, y_train)\n",
    "\n",
    "n_folds = 10\n",
    "kf = KFold(n_splits=n_folds, shuffle=True, random_state=42)\n",
    "\n",
    "cv_scores = -cross_val_score(pipe_pca_xtra, X_train, y_train, cv=kf, scoring='neg_mean_squared_error')\n",
    "\n",
    "mse = np.mean(cv_scores)\n",
    "rmse = np.sqrt(mse)\n",
    "print(\"CV Root Mean Squared Error:\", rmse)\n",
    "\n",
    "pipe_pca_xtra.fit(X_train, y_train)\n",
    "\n",
    "\n",
    "y_pred = pipe_pca_xtra.predict(X_test)\n",
    "y_pred_dollar = np.exp(y_pred)"
   ]
  },
  {
   "cell_type": "code",
   "execution_count": null,
   "id": "8bae12b0-8683-4f8f-97ea-903366c6929f",
   "metadata": {},
   "outputs": [],
   "source": [
    "# save predictions to csv\n",
    "out = pd.DataFrame({\"ID\":test_ids, \"price\":y_pred_dollar})\n",
    "out.to_csv(\"PCAExtraTreesPredictions.csv\", index=False, header=True)"
   ]
  }
 ],
 "metadata": {
  "kernelspec": {
   "display_name": "Python 3 (ipykernel)",
   "language": "python",
   "name": "python3"
  },
  "language_info": {
   "codemirror_mode": {
    "name": "ipython",
    "version": 3
   },
   "file_extension": ".py",
   "mimetype": "text/x-python",
   "name": "python",
   "nbconvert_exporter": "python",
   "pygments_lexer": "ipython3",
   "version": "3.10.9"
  }
 },
 "nbformat": 4,
 "nbformat_minor": 5
}
